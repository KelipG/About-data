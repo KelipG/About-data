{
  "nbformat": 4,
  "nbformat_minor": 0,
  "metadata": {
    "colab": {
      "name": "2021_07_05_데이터분석_Phthon.ipynb",
      "provenance": [],
      "collapsed_sections": []
    },
    "kernelspec": {
      "name": "python3",
      "display_name": "Python 3"
    },
    "language_info": {
      "name": "python"
    }
  },
  "cells": [
    {
      "cell_type": "markdown",
      "metadata": {
        "id": "tzQgZr7OMQ8q"
      },
      "source": [
        "# \"데이터 분석 Python 기초 문법 노트북\"\n",
        "> \"2021년 여름방학 데이터분석을 위한 Python 기초 문법\"\n",
        "\n",
        "- toc:true\n",
        "- branch: master\n",
        "- badges: true\n",
        "- comments: true\n",
        "- author: KimJinGyo\n",
        "- categories: [python, 데이터분석]"
      ]
    },
    {
      "cell_type": "code",
      "metadata": {
        "colab": {
          "base_uri": "https://localhost:8080/"
        },
        "id": "jQt9nuprXgCc",
        "outputId": "11868019-d44e-4ea7-e518-e1dea00e1171"
      },
      "source": [
        "x = 3\n",
        "y = 7\n",
        "x + y "
      ],
      "execution_count": null,
      "outputs": [
        {
          "output_type": "execute_result",
          "data": {
            "text/plain": [
              "10"
            ]
          },
          "metadata": {
            "tags": []
          },
          "execution_count": 1
        }
      ]
    },
    {
      "cell_type": "markdown",
      "metadata": {
        "id": "1sfU6w9OYOo4"
      },
      "source": [
        "# 마크다운\n",
        "## 마크다운\n",
        "### 마크다운  \n",
        "\n",
        "\n",
        "* helllo world\n",
        "* helllo world\n",
        "* helllo world\n",
        "\n",
        "\n",
        "1. helllo world\n",
        "1. helllo world\n",
        "1. helllo world"
      ]
    },
    {
      "cell_type": "code",
      "metadata": {
        "id": "nx-ZGw8Wa1hP"
      },
      "source": [
        ""
      ],
      "execution_count": null,
      "outputs": []
    },
    {
      "cell_type": "markdown",
      "metadata": {
        "id": "fIn5uPtOa4Ql"
      },
      "source": [
        "## 변수\n"
      ]
    },
    {
      "cell_type": "markdown",
      "metadata": {
        "id": "41HRrNQibFnI"
      },
      "source": [
        "* 대문자와 소문자는 다릅니다!\n",
        "* 변수명에 띄어쓰기를 쓰지 않습니다.\n",
        "* 맨 앞에 숫자를 사용하지 않습니다. \n",
        "* 카멜 표기법이나 스네이크 표기법 중 일반 변수는 스네이크 표기법을 사용합니다.\n",
        "* for, if, print, sum 등 이미 예약되어 있는 것은 사용하지 않습니다.  "
      ]
    },
    {
      "cell_type": "code",
      "metadata": {
        "colab": {
          "base_uri": "https://localhost:8080/"
        },
        "id": "ZTLf8D78a8nn",
        "outputId": "671f713b-5f98-466b-ca74-40e96cd661b1"
      },
      "source": [
        "x = 3\n",
        "y = 7\n",
        "x + y\n",
        "x - y\n",
        "x * y\n",
        "x // y"
      ],
      "execution_count": null,
      "outputs": [
        {
          "output_type": "execute_result",
          "data": {
            "text/plain": [
              "0"
            ]
          },
          "metadata": {
            "tags": []
          },
          "execution_count": 4
        }
      ]
    },
    {
      "cell_type": "code",
      "metadata": {
        "colab": {
          "base_uri": "https://localhost:8080/"
        },
        "id": "fE2KkuTobqDW",
        "outputId": "f6b1b9f3-236c-40cc-9066-9f7e168996f3"
      },
      "source": [
        "x = 3 \n",
        "y = 7 \n",
        "print(x + y)\n",
        "print(x - y)\n",
        "print(x * y)\n",
        "print(x // y)"
      ],
      "execution_count": null,
      "outputs": [
        {
          "output_type": "stream",
          "text": [
            "10\n",
            "-4\n",
            "21\n",
            "0\n"
          ],
          "name": "stdout"
        }
      ]
    },
    {
      "cell_type": "code",
      "metadata": {
        "colab": {
          "base_uri": "https://localhost:8080/"
        },
        "id": "v-w1EDThcTOG",
        "outputId": "eb534562-41a9-40d1-e25a-b808ab0dc364"
      },
      "source": [
        "a =10 \n",
        "b = '10'\n",
        "print(a + a)\n",
        "print(b + b)"
      ],
      "execution_count": null,
      "outputs": [
        {
          "output_type": "stream",
          "text": [
            "20\n",
            "1010\n"
          ],
          "name": "stdout"
        }
      ]
    },
    {
      "cell_type": "code",
      "metadata": {
        "colab": {
          "base_uri": "https://localhost:8080/"
        },
        "id": "JOnaPILzc8hm",
        "outputId": "560e635e-49d5-4ddf-eb7e-398408afc8c7"
      },
      "source": [
        "a = 10 # int :정수\n",
        "b = '10' # str :문자\n",
        "c = 'lee'\n",
        "d = 'hojun'\n",
        "e = True # bool : 불리언\n",
        "f= 10.1 # float : 실수\n",
        "print(type(a))"
      ],
      "execution_count": null,
      "outputs": [
        {
          "output_type": "stream",
          "text": [
            "<class 'int'>\n"
          ],
          "name": "stdout"
        }
      ]
    },
    {
      "cell_type": "code",
      "metadata": {
        "colab": {
          "base_uri": "https://localhost:8080/"
        },
        "id": "TXcgnzoNd38N",
        "outputId": "5d6964bc-4d5d-4fc6-fc8a-ad6cbc146860"
      },
      "source": [
        "3>10"
      ],
      "execution_count": null,
      "outputs": [
        {
          "output_type": "execute_result",
          "data": {
            "text/plain": [
              "False"
            ]
          },
          "metadata": {
            "tags": []
          },
          "execution_count": 9
        }
      ]
    },
    {
      "cell_type": "code",
      "metadata": {
        "colab": {
          "base_uri": "https://localhost:8080/",
          "height": 172
        },
        "id": "HAGHaMqZeMg-",
        "outputId": "57821a3d-c4bd-437e-c554-5929b5ef5236"
      },
      "source": [
        "a+b"
      ],
      "execution_count": null,
      "outputs": [
        {
          "output_type": "error",
          "ename": "TypeError",
          "evalue": "ignored",
          "traceback": [
            "\u001b[0;31m---------------------------------------------------------------------------\u001b[0m",
            "\u001b[0;31mTypeError\u001b[0m                                 Traceback (most recent call last)",
            "\u001b[0;32m<ipython-input-10-ca730b97bf8a>\u001b[0m in \u001b[0;36m<module>\u001b[0;34m()\u001b[0m\n\u001b[0;32m----> 1\u001b[0;31m \u001b[0ma\u001b[0m\u001b[0;34m+\u001b[0m\u001b[0mb\u001b[0m\u001b[0;34m\u001b[0m\u001b[0;34m\u001b[0m\u001b[0m\n\u001b[0m",
            "\u001b[0;31mTypeError\u001b[0m: unsupported operand type(s) for +: 'int' and 'str'"
          ]
        }
      ]
    },
    {
      "cell_type": "code",
      "metadata": {
        "colab": {
          "base_uri": "https://localhost:8080/"
        },
        "id": "gjjQ3mUneeB1",
        "outputId": "3ec3fac9-4bdd-472f-d5d6-0a0e1245fa1f"
      },
      "source": [
        "a = [ 10, 20, 30, 10.1, 20.1, 30.1, 'hojun'] # list\n",
        "b = ( 10, 20, 30,) #tuple\n",
        "c = { 10, 20, 30, 30, 30} #set\n",
        "d = {'one':1, 'two':2} #dict\n",
        "print(type(b))"
      ],
      "execution_count": null,
      "outputs": [
        {
          "output_type": "stream",
          "text": [
            "<class 'tuple'>\n"
          ],
          "name": "stdout"
        }
      ]
    },
    {
      "cell_type": "code",
      "metadata": {
        "colab": {
          "base_uri": "https://localhost:8080/",
          "height": 190
        },
        "id": "zu6uBb8nffgO",
        "outputId": "e29b4df3-790f-4583-b2c8-adc61a984204"
      },
      "source": [
        "a.pop()\n",
        "sum(a)"
      ],
      "execution_count": null,
      "outputs": [
        {
          "output_type": "error",
          "ename": "IndexError",
          "evalue": "ignored",
          "traceback": [
            "\u001b[0;31m---------------------------------------------------------------------------\u001b[0m",
            "\u001b[0;31mIndexError\u001b[0m                                Traceback (most recent call last)",
            "\u001b[0;32m<ipython-input-20-3dec3277a6ac>\u001b[0m in \u001b[0;36m<module>\u001b[0;34m()\u001b[0m\n\u001b[0;32m----> 1\u001b[0;31m \u001b[0ma\u001b[0m\u001b[0;34m.\u001b[0m\u001b[0mpop\u001b[0m\u001b[0;34m(\u001b[0m\u001b[0;34m)\u001b[0m\u001b[0;34m\u001b[0m\u001b[0;34m\u001b[0m\u001b[0m\n\u001b[0m\u001b[1;32m      2\u001b[0m \u001b[0msum\u001b[0m\u001b[0;34m(\u001b[0m\u001b[0ma\u001b[0m\u001b[0;34m)\u001b[0m\u001b[0;34m\u001b[0m\u001b[0;34m\u001b[0m\u001b[0m\n",
            "\u001b[0;31mIndexError\u001b[0m: pop from empty list"
          ]
        }
      ]
    },
    {
      "cell_type": "markdown",
      "metadata": {
        "id": "RgZ0xu-PgV89"
      },
      "source": [
        "## 형변환\n"
      ]
    },
    {
      "cell_type": "code",
      "metadata": {
        "colab": {
          "base_uri": "https://localhost:8080/"
        },
        "id": "9I_JnFIMjpGk",
        "outputId": "e5f17070-c135-4f9b-f62a-57908210166a"
      },
      "source": [
        "a = 10\n",
        "b = '10'\n",
        "print(str(a)+b)\n",
        "print(a+int(b))\n"
      ],
      "execution_count": null,
      "outputs": [
        {
          "output_type": "stream",
          "text": [
            "1010\n",
            "20\n"
          ],
          "name": "stdout"
        }
      ]
    },
    {
      "cell_type": "code",
      "metadata": {
        "id": "MIkq6NJMkiKb"
      },
      "source": [
        "a = 10\n",
        "b = '10a'\n",
        "print(str(a)+b)\n",
        "print(a+int(b))"
      ],
      "execution_count": null,
      "outputs": []
    },
    {
      "cell_type": "markdown",
      "metadata": {
        "id": "ZjDn8QNvkvvM"
      },
      "source": [
        "## 산술연산"
      ]
    },
    {
      "cell_type": "code",
      "metadata": {
        "colab": {
          "base_uri": "https://localhost:8080/"
        },
        "id": "DCs_UkY9k0Zk",
        "outputId": "e9432b3c-0145-4073-f79e-520b32ecc3f2"
      },
      "source": [
        "a = 7 \n",
        "b = 3\n",
        "print(a + b)\n",
        "print(a - b)\n",
        "print(a * b)\n",
        "print(a / b)\n",
        "print(a // b)\n",
        "print(a ** b)\n",
        "print(a % b)\n"
      ],
      "execution_count": null,
      "outputs": [
        {
          "output_type": "stream",
          "text": [
            "10\n",
            "4\n",
            "21\n",
            "2.3333333333333335\n",
            "2\n",
            "343\n",
            "1\n"
          ],
          "name": "stdout"
        }
      ]
    },
    {
      "cell_type": "markdown",
      "metadata": {
        "id": "-H41ZFGel-Qa"
      },
      "source": [
        "## 비교연산"
      ]
    },
    {
      "cell_type": "code",
      "metadata": {
        "colab": {
          "base_uri": "https://localhost:8080/"
        },
        "id": "2cHxxbI8mB9c",
        "outputId": "df37215d-4d66-4daa-a6a7-7672f566ea8d"
      },
      "source": [
        "a = 3\n",
        "b = 5\n",
        "print(a > b)\n",
        "print(a >= b)\n",
        "print(a < b)\n",
        "print(a <= b)\n",
        "print(a == b)\n",
        "print(a != b)"
      ],
      "execution_count": null,
      "outputs": [
        {
          "output_type": "stream",
          "text": [
            "False\n",
            "False\n",
            "True\n",
            "True\n",
            "False\n",
            "True\n"
          ],
          "name": "stdout"
        }
      ]
    },
    {
      "cell_type": "markdown",
      "metadata": {
        "id": "g5AH7cUZouZz"
      },
      "source": [
        "## 논리연산"
      ]
    },
    {
      "cell_type": "code",
      "metadata": {
        "colab": {
          "base_uri": "https://localhost:8080/"
        },
        "id": "l1-qIc3epBur",
        "outputId": "2e332018-b793-4cbd-8b6f-18c0187aa01b"
      },
      "source": [
        "# 주석입니다. 주석은 실행하지 않습니다.\n",
        "a = 10\n",
        "b = 20\n",
        "a+b\n"
      ],
      "execution_count": null,
      "outputs": [
        {
          "output_type": "execute_result",
          "data": {
            "text/plain": [
              "30"
            ]
          },
          "metadata": {
            "tags": []
          },
          "execution_count": 24
        }
      ]
    },
    {
      "cell_type": "code",
      "metadata": {
        "colab": {
          "base_uri": "https://localhost:8080/"
        },
        "id": "d3D5CC7Yow4C",
        "outputId": "b4164ab8-72b8-42d4-de4a-e5a76de25810"
      },
      "source": [
        "a = True #1\n",
        "b = False #0\n",
        "\n",
        "print(a and b)\n",
        "print(a or b)\n",
        "print(not a)\n"
      ],
      "execution_count": null,
      "outputs": [
        {
          "output_type": "stream",
          "text": [
            "False\n",
            "True\n",
            "False\n"
          ],
          "name": "stdout"
        }
      ]
    },
    {
      "cell_type": "code",
      "metadata": {
        "colab": {
          "base_uri": "https://localhost:8080/"
        },
        "id": "SbbvygPEqnCC",
        "outputId": "701d4f06-2058-47a1-87f1-a5a6a433204e"
      },
      "source": [
        "result = 0\n",
        "for i in range(1001): \n",
        "    if i % 3 ==0 or i % 5 ==0:\n",
        "        result = result + i\n",
        "\n",
        "print(result)"
      ],
      "execution_count": null,
      "outputs": [
        {
          "output_type": "stream",
          "text": [
            "234168\n"
          ],
          "name": "stdout"
        }
      ]
    },
    {
      "cell_type": "markdown",
      "metadata": {
        "id": "wrTD7uBEw6JQ"
      },
      "source": [
        "## 문자열\n"
      ]
    },
    {
      "cell_type": "code",
      "metadata": {
        "id": "9oWQrGhMw9hA"
      },
      "source": [
        "s = 'paullab CEO leehojun'"
      ],
      "execution_count": null,
      "outputs": []
    },
    {
      "cell_type": "code",
      "metadata": {
        "colab": {
          "base_uri": "https://localhost:8080/"
        },
        "id": "DDCVVsroxIVQ",
        "outputId": "fc008800-3cc8-4a3b-f569-649cf3dc42aa"
      },
      "source": [
        "s.count('l')"
      ],
      "execution_count": null,
      "outputs": [
        {
          "output_type": "execute_result",
          "data": {
            "text/plain": [
              "3"
            ]
          },
          "metadata": {
            "tags": []
          },
          "execution_count": 37
        }
      ]
    },
    {
      "cell_type": "code",
      "metadata": {
        "colab": {
          "base_uri": "https://localhost:8080/"
        },
        "id": "s1yvPLQdxbvw",
        "outputId": "c27f4a43-b762-40d8-9932-1f0b79f6d2d3"
      },
      "source": [
        "s.count(' ')"
      ],
      "execution_count": null,
      "outputs": [
        {
          "output_type": "execute_result",
          "data": {
            "text/plain": [
              "2"
            ]
          },
          "metadata": {
            "tags": []
          },
          "execution_count": 38
        }
      ]
    },
    {
      "cell_type": "code",
      "metadata": {
        "colab": {
          "base_uri": "https://localhost:8080/",
          "height": 35
        },
        "id": "rLNPV21_x3zQ",
        "outputId": "a909a57a-375d-43ae-fdf2-d43f06e90f5b"
      },
      "source": [
        "s.upper()"
      ],
      "execution_count": null,
      "outputs": [
        {
          "output_type": "execute_result",
          "data": {
            "application/vnd.google.colaboratory.intrinsic+json": {
              "type": "string"
            },
            "text/plain": [
              "'PAULLAB CEO LEEHOJUN'"
            ]
          },
          "metadata": {
            "tags": []
          },
          "execution_count": 39
        }
      ]
    },
    {
      "cell_type": "code",
      "metadata": {
        "colab": {
          "base_uri": "https://localhost:8080/",
          "height": 35
        },
        "id": "mWQhkvBEx65X",
        "outputId": "b0aa6d1c-0aa4-40f1-dcd0-888f9739d75e"
      },
      "source": [
        "s.lower()"
      ],
      "execution_count": null,
      "outputs": [
        {
          "output_type": "execute_result",
          "data": {
            "application/vnd.google.colaboratory.intrinsic+json": {
              "type": "string"
            },
            "text/plain": [
              "'paullab ceo leehojun'"
            ]
          },
          "metadata": {
            "tags": []
          },
          "execution_count": 40
        }
      ]
    },
    {
      "cell_type": "code",
      "metadata": {
        "colab": {
          "base_uri": "https://localhost:8080/"
        },
        "id": "gQzeiOkex_NX",
        "outputId": "94e8bb0e-b684-4968-a796-508ca137ad87"
      },
      "source": [
        "s.split(' ')"
      ],
      "execution_count": null,
      "outputs": [
        {
          "output_type": "execute_result",
          "data": {
            "text/plain": [
              "['paullab', 'CEO', 'leehojun']"
            ]
          },
          "metadata": {
            "tags": []
          },
          "execution_count": 42
        }
      ]
    },
    {
      "cell_type": "code",
      "metadata": {
        "colab": {
          "base_uri": "https://localhost:8080/",
          "height": 35
        },
        "id": "K_G0W7aeyJ9X",
        "outputId": "8d5e8d96-ab80-4cf1-bc7f-76f4348b5ec1"
      },
      "source": [
        "'-'.join(['a','b','c'])"
      ],
      "execution_count": null,
      "outputs": [
        {
          "output_type": "execute_result",
          "data": {
            "application/vnd.google.colaboratory.intrinsic+json": {
              "type": "string"
            },
            "text/plain": [
              "'a-b-c'"
            ]
          },
          "metadata": {
            "tags": []
          },
          "execution_count": 44
        }
      ]
    },
    {
      "cell_type": "code",
      "metadata": {
        "colab": {
          "base_uri": "https://localhost:8080/",
          "height": 35
        },
        "id": "q9Uu3L5Ky7nf",
        "outputId": "21dd1a52-2a0c-4d08-f94b-d84898182f47"
      },
      "source": [
        "d = s.split(' ')\n",
        "'-'.join(d)"
      ],
      "execution_count": null,
      "outputs": [
        {
          "output_type": "execute_result",
          "data": {
            "application/vnd.google.colaboratory.intrinsic+json": {
              "type": "string"
            },
            "text/plain": [
              "'paullab-CEO-leehojun'"
            ]
          },
          "metadata": {
            "tags": []
          },
          "execution_count": 45
        }
      ]
    },
    {
      "cell_type": "code",
      "metadata": {
        "colab": {
          "base_uri": "https://localhost:8080/"
        },
        "id": "XV5C0dZezoFI",
        "outputId": "63617b95-6d7b-4d44-caea-3d6b3bcebece"
      },
      "source": [
        "dir(s)"
      ],
      "execution_count": null,
      "outputs": [
        {
          "output_type": "execute_result",
          "data": {
            "text/plain": [
              "['__add__',\n",
              " '__class__',\n",
              " '__contains__',\n",
              " '__delattr__',\n",
              " '__dir__',\n",
              " '__doc__',\n",
              " '__eq__',\n",
              " '__format__',\n",
              " '__ge__',\n",
              " '__getattribute__',\n",
              " '__getitem__',\n",
              " '__getnewargs__',\n",
              " '__gt__',\n",
              " '__hash__',\n",
              " '__init__',\n",
              " '__init_subclass__',\n",
              " '__iter__',\n",
              " '__le__',\n",
              " '__len__',\n",
              " '__lt__',\n",
              " '__mod__',\n",
              " '__mul__',\n",
              " '__ne__',\n",
              " '__new__',\n",
              " '__reduce__',\n",
              " '__reduce_ex__',\n",
              " '__repr__',\n",
              " '__rmod__',\n",
              " '__rmul__',\n",
              " '__setattr__',\n",
              " '__sizeof__',\n",
              " '__str__',\n",
              " '__subclasshook__',\n",
              " 'capitalize',\n",
              " 'casefold',\n",
              " 'center',\n",
              " 'count',\n",
              " 'encode',\n",
              " 'endswith',\n",
              " 'expandtabs',\n",
              " 'find',\n",
              " 'format',\n",
              " 'format_map',\n",
              " 'index',\n",
              " 'isalnum',\n",
              " 'isalpha',\n",
              " 'isascii',\n",
              " 'isdecimal',\n",
              " 'isdigit',\n",
              " 'isidentifier',\n",
              " 'islower',\n",
              " 'isnumeric',\n",
              " 'isprintable',\n",
              " 'isspace',\n",
              " 'istitle',\n",
              " 'isupper',\n",
              " 'join',\n",
              " 'ljust',\n",
              " 'lower',\n",
              " 'lstrip',\n",
              " 'maketrans',\n",
              " 'partition',\n",
              " 'replace',\n",
              " 'rfind',\n",
              " 'rindex',\n",
              " 'rjust',\n",
              " 'rpartition',\n",
              " 'rsplit',\n",
              " 'rstrip',\n",
              " 'split',\n",
              " 'splitlines',\n",
              " 'startswith',\n",
              " 'strip',\n",
              " 'swapcase',\n",
              " 'title',\n",
              " 'translate',\n",
              " 'upper',\n",
              " 'zfill']"
            ]
          },
          "metadata": {
            "tags": []
          },
          "execution_count": 46
        }
      ]
    },
    {
      "cell_type": "code",
      "metadata": {
        "colab": {
          "base_uri": "https://localhost:8080/"
        },
        "id": "HgQFH6Yoz-hp",
        "outputId": "4678d250-c680-4460-96ba-d01498df87f6"
      },
      "source": [
        "s ='        hello world'\n",
        "print(s)\n",
        "print(s.strip())\n",
        "print(s.replace(' ',''))\n"
      ],
      "execution_count": null,
      "outputs": [
        {
          "output_type": "stream",
          "text": [
            "        hello world\n",
            "hello world\n",
            "helloworld\n"
          ],
          "name": "stdout"
        }
      ]
    },
    {
      "cell_type": "markdown",
      "metadata": {
        "id": "wfNCTU0BcW05"
      },
      "source": [
        "## 리스트\n",
        "\n",
        "* 순서가 있고, 수정이 가능합니다. \n"
      ]
    },
    {
      "cell_type": "code",
      "metadata": {
        "colab": {
          "base_uri": "https://localhost:8080/"
        },
        "id": "37nhAkSrcn5R",
        "outputId": "0792e70e-4ed8-4d88-ff73-c71276e02c8f"
      },
      "source": [
        "a = [10, 20, 30, 40, 50, 60, 70, 15]\n",
        "a\n",
        "a[0] # 0은 인덱스이고, a[0] 호출하는 것을 indexing이라고 합니다. \n",
        "a[0], a[1], a[2], a[3], a[4]\n",
        "a[0:5] # 슬라이싱 - : 자료형[start:stop:step]\n",
        "a[::2] # 슬라이싱 - : 자료형[start:stop:step], 안씀\n",
        "a[::-1] # 슬라이싱 - : 자료형[start:stop:step] -> 자주 씀 거꾸로 출력\n",
        "a[0] = 1000\n",
        "a"
      ],
      "execution_count": null,
      "outputs": [
        {
          "output_type": "execute_result",
          "data": {
            "text/plain": [
              "[1000, 20, 30, 40, 50, 60, 70, 15]"
            ]
          },
          "metadata": {
            "tags": []
          },
          "execution_count": 6
        }
      ]
    },
    {
      "cell_type": "code",
      "metadata": {
        "colab": {
          "base_uri": "https://localhost:8080/"
        },
        "id": "fCmqBNW0d0Ju",
        "outputId": "200046f2-93a7-4c71-e3e8-b1168c344995"
      },
      "source": [
        "dir(a)\n",
        "\n",
        "a.append(10) # 값을 맨 뒤에 추가. 잘씀\n",
        "a.clear() # a에 모든 값을 비움. 안씀\n",
        "a.copy() # a에 모든 값을 복사.\n",
        "a.count() # a에서 특정한 값의 개수를 찾습니다. 잘씀\n",
        "a.extend([10, 20, 30]) # a에서 맨 뒤에 여러개의 값을 추가합니다. \n",
        "a.index() # a에서 특정한 값의 인덱스를 찾습니다. \n",
        "a.insert(2, 10000) # a에 중간에 값을 삽입합니다. \n",
        "a.pop() # a에 맨 뒤에 값을 빼냅니다. 빼낸 값은 삭제됩니다. 잘씀\n",
        "a.remove(10000) # a에 특정한 값을 삭제합니다. \n",
        "a.reverse() # a에 값을 뒤집습니다. 잘씀\n",
        "a.sort() # a의 값을 정렬합니다. 잘씀"
      ],
      "execution_count": null,
      "outputs": [
        {
          "output_type": "execute_result",
          "data": {
            "text/plain": [
              "['__add__',\n",
              " '__class__',\n",
              " '__contains__',\n",
              " '__delattr__',\n",
              " '__delitem__',\n",
              " '__dir__',\n",
              " '__doc__',\n",
              " '__eq__',\n",
              " '__format__',\n",
              " '__ge__',\n",
              " '__getattribute__',\n",
              " '__getitem__',\n",
              " '__gt__',\n",
              " '__hash__',\n",
              " '__iadd__',\n",
              " '__imul__',\n",
              " '__init__',\n",
              " '__init_subclass__',\n",
              " '__iter__',\n",
              " '__le__',\n",
              " '__len__',\n",
              " '__lt__',\n",
              " '__mul__',\n",
              " '__ne__',\n",
              " '__new__',\n",
              " '__reduce__',\n",
              " '__reduce_ex__',\n",
              " '__repr__',\n",
              " '__reversed__',\n",
              " '__rmul__',\n",
              " '__setattr__',\n",
              " '__setitem__',\n",
              " '__sizeof__',\n",
              " '__str__',\n",
              " '__subclasshook__',\n",
              " 'append',\n",
              " 'clear',\n",
              " 'copy',\n",
              " 'count',\n",
              " 'extend',\n",
              " 'index',\n",
              " 'insert',\n",
              " 'pop',\n",
              " 'remove',\n",
              " 'reverse',\n",
              " 'sort']"
            ]
          },
          "metadata": {
            "tags": []
          },
          "execution_count": 7
        }
      ]
    },
    {
      "cell_type": "code",
      "metadata": {
        "colab": {
          "base_uri": "https://localhost:8080/"
        },
        "id": "JNhKJjKIgaAz",
        "outputId": "171ffdbd-8dd9-46ea-d349-ea7dc70a0c4b"
      },
      "source": [
        "a.append(100)\n",
        "a.append(100)\n",
        "a"
      ],
      "execution_count": null,
      "outputs": [
        {
          "output_type": "execute_result",
          "data": {
            "text/plain": [
              "[1000, 20, 30, 40, 50, 60, 70, 15, 100, 100, 100, 100, 100, 100]"
            ]
          },
          "metadata": {
            "tags": []
          },
          "execution_count": 11
        }
      ]
    },
    {
      "cell_type": "code",
      "metadata": {
        "colab": {
          "base_uri": "https://localhost:8080/"
        },
        "id": "8s6kPeU3gdmM",
        "outputId": "3e13e34d-0937-4328-b51c-87032effd71b"
      },
      "source": [
        "a.count(100)"
      ],
      "execution_count": null,
      "outputs": [
        {
          "output_type": "execute_result",
          "data": {
            "text/plain": [
              "6"
            ]
          },
          "metadata": {
            "tags": []
          },
          "execution_count": 12
        }
      ]
    },
    {
      "cell_type": "code",
      "metadata": {
        "colab": {
          "base_uri": "https://localhost:8080/"
        },
        "id": "2hYG2AhMg6n0",
        "outputId": "592c96b9-bb0b-4781-95dd-a66e1e3657c0"
      },
      "source": [
        "a.sort()\n",
        "a"
      ],
      "execution_count": null,
      "outputs": [
        {
          "output_type": "execute_result",
          "data": {
            "text/plain": [
              "[15, 20, 30, 40, 50, 60, 70, 100, 100, 100, 100, 100, 100, 1000]"
            ]
          },
          "metadata": {
            "tags": []
          },
          "execution_count": 13
        }
      ]
    },
    {
      "cell_type": "code",
      "metadata": {
        "colab": {
          "base_uri": "https://localhost:8080/"
        },
        "id": "EB2vND3qg-FH",
        "outputId": "bacafe18-6145-4dd4-c8d5-16a50c8ad9d9"
      },
      "source": [
        "a.reverse()\n",
        "a"
      ],
      "execution_count": null,
      "outputs": [
        {
          "output_type": "execute_result",
          "data": {
            "text/plain": [
              "[1000, 100, 100, 100, 100, 100, 100, 70, 60, 50, 40, 30, 20, 15]"
            ]
          },
          "metadata": {
            "tags": []
          },
          "execution_count": 14
        }
      ]
    },
    {
      "cell_type": "markdown",
      "metadata": {
        "id": "BJQ7goZGip4Y"
      },
      "source": [
        "## 튜플, 딕셔너리, 셋"
      ]
    },
    {
      "cell_type": "code",
      "metadata": {
        "colab": {
          "base_uri": "https://localhost:8080/"
        },
        "id": "4ig3kMPtisXa",
        "outputId": "63b49cff-d789-4c8d-e605-b96083dc2f6c"
      },
      "source": [
        "# 튜플은 순서가 있고 값을 변경할 수 없습니다. \n",
        "\n",
        "t = (10, 20 ,30)\n",
        "t"
      ],
      "execution_count": null,
      "outputs": [
        {
          "output_type": "execute_result",
          "data": {
            "text/plain": [
              "(10, 20, 30)"
            ]
          },
          "metadata": {
            "tags": []
          },
          "execution_count": 15
        }
      ]
    },
    {
      "cell_type": "code",
      "metadata": {
        "colab": {
          "base_uri": "https://localhost:8080/"
        },
        "id": "xi9mG9k3i7A_",
        "outputId": "376bf4f1-c483-4bdd-f9b3-b24f7719322a"
      },
      "source": [
        "dir(t)"
      ],
      "execution_count": null,
      "outputs": [
        {
          "output_type": "execute_result",
          "data": {
            "text/plain": [
              "['__add__',\n",
              " '__class__',\n",
              " '__contains__',\n",
              " '__delattr__',\n",
              " '__dir__',\n",
              " '__doc__',\n",
              " '__eq__',\n",
              " '__format__',\n",
              " '__ge__',\n",
              " '__getattribute__',\n",
              " '__getitem__',\n",
              " '__getnewargs__',\n",
              " '__gt__',\n",
              " '__hash__',\n",
              " '__init__',\n",
              " '__init_subclass__',\n",
              " '__iter__',\n",
              " '__le__',\n",
              " '__len__',\n",
              " '__lt__',\n",
              " '__mul__',\n",
              " '__ne__',\n",
              " '__new__',\n",
              " '__reduce__',\n",
              " '__reduce_ex__',\n",
              " '__repr__',\n",
              " '__rmul__',\n",
              " '__setattr__',\n",
              " '__sizeof__',\n",
              " '__str__',\n",
              " '__subclasshook__',\n",
              " 'count',\n",
              " 'index']"
            ]
          },
          "metadata": {
            "tags": []
          },
          "execution_count": 16
        }
      ]
    },
    {
      "cell_type": "code",
      "metadata": {
        "colab": {
          "base_uri": "https://localhost:8080/",
          "height": 35
        },
        "id": "1myAeh41jct7",
        "outputId": "f82857b9-b22b-4873-cc62-f77f1c4aa56c"
      },
      "source": [
        "# 딕셔너리 (key : value) 형태로 매칭\n",
        "\n",
        "영한번역 = {'one' : '하나', 'two' : '둘'}\n",
        "영한번역['one']"
      ],
      "execution_count": null,
      "outputs": [
        {
          "output_type": "execute_result",
          "data": {
            "application/vnd.google.colaboratory.intrinsic+json": {
              "type": "string"
            },
            "text/plain": [
              "'하나'"
            ]
          },
          "metadata": {
            "tags": []
          },
          "execution_count": 21
        }
      ]
    },
    {
      "cell_type": "code",
      "metadata": {
        "colab": {
          "base_uri": "https://localhost:8080/"
        },
        "id": "IFI2xfFGnyPM",
        "outputId": "7a953d72-c628-422a-d9b3-f5fb55f021fe"
      },
      "source": [
        "# 셋 (집합, 합집합, 차집합, 교집합)\n",
        "\n",
        "s={10,20,30,30, 30}\n",
        "s"
      ],
      "execution_count": null,
      "outputs": [
        {
          "output_type": "execute_result",
          "data": {
            "text/plain": [
              "{10, 20, 30}"
            ]
          },
          "metadata": {
            "tags": []
          },
          "execution_count": 22
        }
      ]
    },
    {
      "cell_type": "code",
      "metadata": {
        "colab": {
          "base_uri": "https://localhost:8080/"
        },
        "id": "0JiCBvu-oMin",
        "outputId": "8d84eac4-9232-4a58-be42-9aa25198d6ad"
      },
      "source": [
        "s={10,20,30,30,30}\n",
        "ss={10,40,50}\n",
        "s | ss \n",
        "s & ss\n",
        "s - ss"
      ],
      "execution_count": null,
      "outputs": [
        {
          "output_type": "execute_result",
          "data": {
            "text/plain": [
              "{20, 30}"
            ]
          },
          "metadata": {
            "tags": []
          },
          "execution_count": 25
        }
      ]
    },
    {
      "cell_type": "markdown",
      "metadata": {
        "id": "wNPK_04ZcWoC"
      },
      "source": [
        ""
      ]
    },
    {
      "cell_type": "markdown",
      "metadata": {
        "id": "tgOsy-GYovW9"
      },
      "source": [
        "## f-sting"
      ]
    },
    {
      "cell_type": "code",
      "metadata": {
        "colab": {
          "base_uri": "https://localhost:8080/"
        },
        "id": "xQrp0JMgozfF",
        "outputId": "7b72d104-32aa-44a8-81bd-102054fbba1b"
      },
      "source": [
        "age = 10 \n",
        "name = 'leehojun'\n",
        "print('제 이름은 leehojun 입니다. 제 나이는 10살입니다.')\n",
        "print('제 이름은',name, '입니다. 제 나이는', age, '살입니다.')\n",
        "print('제 이름은 {0} 입니다. 제 나이는 {1}살입니다.' .format(name,age))\n",
        "print(f'제 이름은 {name} 입니다. 제 나이는 {age+age}살입니다.') # 이것만 씁시다. 위에는 다 옛날 문법"
      ],
      "execution_count": null,
      "outputs": [
        {
          "output_type": "stream",
          "text": [
            "제 이름은 leehojun 입니다. 제 나이는 10살입니다.\n",
            "제 이름은 leehojun 입니다. 제 나이는 10 살입니다.\n",
            "제 이름은 leehojun 입니다. 제 나이는 10살입니다.\n",
            "제 이름은 leehojun 입니다. 제 나이는 20살입니다.\n"
          ],
          "name": "stdout"
        }
      ]
    },
    {
      "cell_type": "markdown",
      "metadata": {
        "id": "IMq-dCanrvi0"
      },
      "source": [
        "## built in function\n",
        "* abs() : 절대값\n",
        "* min() : 최솟값\n",
        "* max() : 최댓값\n",
        "* dir() : 매서드 확인\n",
        "* id()  : 메모리 주소 확인\n",
        "* sorted(): 정렬\n",
        "* reversed(): 역순 (역정렬 아님)\n",
        "* enumerate(): 순서를 매김 (for 하면서 설명)\n",
        "\n",
        "* 형변환:\n",
        " * set() : 집합으로 형변환\n",
        " * dict() : 딕셔너리로 형변환\n",
        " * bool() : 불리언으로 형변환\n",
        " * int() :정수형으로 형변환 \n",
        " * str() : 문자열로 형변환 \n",
        " * float() : 실수형으로 형변환\n",
        " * tuple() : 튜플형으로 형변환\n",
        " * list() : 리스트로 형변환\n",
        "* ord() : 문자를 숫자로 변환\n",
        "* chr() : 숫자를 문자로 변환\n",
        "* sum() : 전부 더함 (더할 수 없으면 에러)\n",
        "* filter() : 필터링 (점수 90점 이상인 사람?)\n",
        "* print() : 출력\n",
        "* format() : 컴마 찍기\n",
        "* len() : 길이 출력! 중요!!!!!\n",
        "* type() : 타입 알아보기 중요!!\n",
        "* range(): 연속된 값 생성 (0~99 -> range(100))\n",
        "* zip('abc', 'def')\n",
        "* map(lambda x:x**2, [1,2,3])\n",
        "* round() : 소수점 자리 반올림 "
      ]
    },
    {
      "cell_type": "code",
      "metadata": {
        "colab": {
          "base_uri": "https://localhost:8080/"
        },
        "id": "EdpiM0JywqLa",
        "outputId": "3d080626-1bcf-4a17-d200-d1cc904b3739"
      },
      "source": [
        "list(zip('abc', 'def'))"
      ],
      "execution_count": null,
      "outputs": [
        {
          "output_type": "execute_result",
          "data": {
            "text/plain": [
              "[('a', 'd'), ('b', 'e'), ('c', 'f')]"
            ]
          },
          "metadata": {
            "tags": []
          },
          "execution_count": 32
        }
      ]
    },
    {
      "cell_type": "code",
      "metadata": {
        "colab": {
          "base_uri": "https://localhost:8080/"
        },
        "id": "FIKXCVUKwnSL",
        "outputId": "3dc03c49-5693-4be2-e07a-75590e677511"
      },
      "source": [
        "list(map(lambda x:x**2, [1,2,3]))"
      ],
      "execution_count": null,
      "outputs": [
        {
          "output_type": "execute_result",
          "data": {
            "text/plain": [
              "[1, 4, 9]"
            ]
          },
          "metadata": {
            "tags": []
          },
          "execution_count": 33
        }
      ]
    },
    {
      "cell_type": "markdown",
      "metadata": {
        "id": "MrQD-f0d0KYV"
      },
      "source": [
        "## 조건문 "
      ]
    },
    {
      "cell_type": "code",
      "metadata": {
        "colab": {
          "base_uri": "https://localhost:8080/"
        },
        "id": "za4da75l1FvT",
        "outputId": "1ad84d3e-820f-4ed0-e520-ccb463a50486"
      },
      "source": [
        "if False:\n",
        "    print('hello')\n",
        "print('end')"
      ],
      "execution_count": null,
      "outputs": [
        {
          "output_type": "stream",
          "text": [
            "end\n"
          ],
          "name": "stdout"
        }
      ]
    },
    {
      "cell_type": "code",
      "metadata": {
        "colab": {
          "base_uri": "https://localhost:8080/"
        },
        "id": "gnrcOp880NH6",
        "outputId": "5fb8c1de-0c5b-4f79-b2e7-c24b14c27861"
      },
      "source": [
        "score = 89\n",
        "money = 0\n",
        "if score > 90:\n",
        "   print('mom: i\\'m so happy')\n",
        "   money += 1000000 #money = money + 1000000, 할당연산이라 부름\n",
        "elif score > 80:\n",
        "   print('mom: i\\'m  happy')\n",
        "   money += 100000\n",
        "elif score > 70:\n",
        "   print('mom: happy?')\n",
        "   money += 10000\n",
        "else:\n",
        "   print('mom: ...')\n",
        "\n",
        "print(money)"
      ],
      "execution_count": null,
      "outputs": [
        {
          "output_type": "stream",
          "text": [
            "mom: im  happy\n",
            "100000\n"
          ],
          "name": "stdout"
        }
      ]
    },
    {
      "cell_type": "markdown",
      "metadata": {
        "id": "xBMWtP652noQ"
      },
      "source": [
        "## 문제 풀이와 업다운 게임 제"
      ]
    },
    {
      "cell_type": "code",
      "metadata": {
        "colab": {
          "base_uri": "https://localhost:8080/"
        },
        "id": "7Cb38qvd2s2d",
        "outputId": "d73e25fc-89d1-4305-c874-40500f86e844"
      },
      "source": [
        "str(list(range(100)))\n",
        "str(list(range(100))).count('8')\n",
        "str(list(range(10001))).count('8')\n"
      ],
      "execution_count": null,
      "outputs": [
        {
          "output_type": "execute_result",
          "data": {
            "text/plain": [
              "4000"
            ]
          },
          "metadata": {
            "tags": []
          },
          "execution_count": 46
        }
      ]
    },
    {
      "cell_type": "code",
      "metadata": {
        "id": "OKohbL0u4trf"
      },
      "source": [
        "리스트 = [1, 3, 4, 8, 13, 17, 20]\n",
        "리스트둘 = 리스트[1:]"
      ],
      "execution_count": null,
      "outputs": []
    },
    {
      "cell_type": "code",
      "metadata": {
        "colab": {
          "base_uri": "https://localhost:8080/"
        },
        "id": "4a0EJCxK5KBf",
        "outputId": "fbdcece6-b5e3-4aee-9ae1-e387b2062d90"
      },
      "source": [
        "list(zip(리스트, 리스트둘))"
      ],
      "execution_count": null,
      "outputs": [
        {
          "output_type": "execute_result",
          "data": {
            "text/plain": [
              "[(1, 3), (3, 4), (4, 8), (8, 13), (13, 17), (17, 20)]"
            ]
          },
          "metadata": {
            "tags": []
          },
          "execution_count": 50
        }
      ]
    },
    {
      "cell_type": "code",
      "metadata": {
        "colab": {
          "base_uri": "https://localhost:8080/"
        },
        "id": "m94-16Nn5XF2",
        "outputId": "6639b67f-f7d2-4bf5-851a-43ec1e694079"
      },
      "source": [
        "묶어준리스트 = list(zip(리스트, 리스트둘))\n",
        "묶어준리스트.sort(key=lambda x:x[0]-x[1], reverse= True)\n",
        "묶어준리스트\n",
        "묶어준리스트[0]"
      ],
      "execution_count": null,
      "outputs": [
        {
          "output_type": "execute_result",
          "data": {
            "text/plain": [
              "(3, 4)"
            ]
          },
          "metadata": {
            "tags": []
          },
          "execution_count": 51
        }
      ]
    },
    {
      "cell_type": "code",
      "metadata": {
        "colab": {
          "base_uri": "https://localhost:8080/"
        },
        "id": "mQeWs4C37Dal",
        "outputId": "702f7905-72d5-4ae4-e33b-6598fca045a5"
      },
      "source": [
        "import random\n",
        "\n",
        "정답 = random.randint(1, 100)\n",
        "\n",
        "while True:\n",
        "    user = int(input('숫자를 입력해주세요.'))\n",
        "    if user < 정답 : \n",
        "      print('up')\n",
        "    elif user > 정답 :\n",
        "      print('down')\n",
        "    else:\n",
        "      print('정답')\n",
        "      break\n"
      ],
      "execution_count": 1,
      "outputs": [
        {
          "output_type": "stream",
          "text": [
            "숫자를 입력해주세요.50\n",
            "up\n",
            "숫자를 입력해주세요.80\n",
            "down\n",
            "숫자를 입력해주세요.65\n",
            "up\n",
            "숫자를 입력해주세요.72\n",
            "down\n",
            "숫자를 입력해주세요.68\n",
            "up\n",
            "숫자를 입력해주세요.69\n",
            "up\n",
            "숫자를 입력해주세요.71\n",
            "정답\n"
          ],
          "name": "stdout"
        }
      ]
    },
    {
      "cell_type": "markdown",
      "metadata": {
        "id": "svcnaZB1-XMz"
      },
      "source": [
        "## 반복문"
      ]
    },
    {
      "cell_type": "code",
      "metadata": {
        "colab": {
          "base_uri": "https://localhost:8080/"
        },
        "id": "sZAPT5im-We9",
        "outputId": "984d5fa8-8c9d-48d6-ea4f-db6007798b12"
      },
      "source": [
        "for i in range(10):\n",
        "   print(i)"
      ],
      "execution_count": null,
      "outputs": [
        {
          "output_type": "stream",
          "text": [
            "0\n",
            "1\n",
            "2\n",
            "3\n",
            "4\n",
            "5\n",
            "6\n",
            "7\n",
            "8\n",
            "9\n"
          ],
          "name": "stdout"
        }
      ]
    },
    {
      "cell_type": "code",
      "metadata": {
        "colab": {
          "base_uri": "https://localhost:8080/"
        },
        "id": "0lZWfTa1Btea",
        "outputId": "60532d53-dd81-42a7-e3a4-d3d47eb23803"
      },
      "source": [
        "list(range(10)) #stop\n",
        "list(range(0,10,2)) #start, stop, step\n",
        "list(range(5,10)) #start, stop\n",
        "list(range(10,5,-1)) #start, stop, step\n"
      ],
      "execution_count": null,
      "outputs": [
        {
          "output_type": "execute_result",
          "data": {
            "text/plain": [
              "[10, 9, 8, 7, 6]"
            ]
          },
          "metadata": {
            "tags": []
          },
          "execution_count": 63
        }
      ]
    },
    {
      "cell_type": "code",
      "metadata": {
        "colab": {
          "base_uri": "https://localhost:8080/"
        },
        "id": "JwkV8n18CUoX",
        "outputId": "7621bfa2-41dd-4065-99be-84efc99ad686"
      },
      "source": [
        "s = 0\n",
        "for i in range(101):\n",
        "   s = s + i # s+= 1\n",
        "\n",
        "print(s)"
      ],
      "execution_count": null,
      "outputs": [
        {
          "output_type": "stream",
          "text": [
            "5050\n"
          ],
          "name": "stdout"
        }
      ]
    },
    {
      "cell_type": "code",
      "metadata": {
        "colab": {
          "base_uri": "https://localhost:8080/"
        },
        "id": "kxeVRIe6DhiO",
        "outputId": "c21f1d30-c4bf-46ae-e503-47dcd146732e"
      },
      "source": [
        "s=0\n",
        "for i in range(0,101,2):\n",
        "    s= s+i\n",
        "\n",
        "print(s)\n"
      ],
      "execution_count": null,
      "outputs": [
        {
          "output_type": "stream",
          "text": [
            "2550\n"
          ],
          "name": "stdout"
        }
      ]
    },
    {
      "cell_type": "code",
      "metadata": {
        "colab": {
          "base_uri": "https://localhost:8080/"
        },
        "id": "B2CVmP4oDshM",
        "outputId": "010725ce-d4d4-4dfe-8d6a-ab48d2603c0e"
      },
      "source": [
        "sum(range(0, 101, 2))"
      ],
      "execution_count": null,
      "outputs": [
        {
          "output_type": "execute_result",
          "data": {
            "text/plain": [
              "2550"
            ]
          },
          "metadata": {
            "tags": []
          },
          "execution_count": 67
        }
      ]
    },
    {
      "cell_type": "code",
      "metadata": {
        "colab": {
          "base_uri": "https://localhost:8080/"
        },
        "id": "oDS2XIRoDy7W",
        "outputId": "2ae3943a-95fc-470f-d389-01cfbabe9f27"
      },
      "source": [
        "s = 0\n",
        "for i in range(101):\n",
        "  if i %2==0:\n",
        "      s = s + i # s+= 1\n",
        "\n",
        "print(s)"
      ],
      "execution_count": null,
      "outputs": [
        {
          "output_type": "stream",
          "text": [
            "2550\n"
          ],
          "name": "stdout"
        }
      ]
    },
    {
      "cell_type": "code",
      "metadata": {
        "colab": {
          "base_uri": "https://localhost:8080/"
        },
        "id": "hmnjGR68EpuB",
        "outputId": "fe3d7b68-ec82-488a-b584-df8cdeb27448"
      },
      "source": [
        "for i in range(1,10):\n",
        "    print(f'{2}X{i}={2*i}')\n",
        "for i in range(1,10):\n",
        "    print(f'{3}X{i}={3*i}')\n",
        "for i in range(1,10):\n",
        "    print(f'{4}X{i}={4*i}')\n",
        "for i in range(1,10):\n",
        "    print(f'{5}X{i}={5*i}')\n",
        "for i in range(1,10):\n",
        "    print(f'{6}X{i}={6*i}')\n",
        "for i in range(1,10):\n",
        "    print(f'{7}X{i}={7*i}')\n",
        "for i in range(1,10):\n",
        "    print(f'{8}X{i}={8*i}')\n",
        "for i in range(1,10):\n",
        "    print(f'{9}X{i}={9*i}')"
      ],
      "execution_count": null,
      "outputs": [
        {
          "output_type": "stream",
          "text": [
            "2X1=2\n",
            "2X2=4\n",
            "2X3=6\n",
            "2X4=8\n",
            "2X5=10\n",
            "2X6=12\n",
            "2X7=14\n",
            "2X8=16\n",
            "2X9=18\n",
            "3X1=3\n",
            "3X2=6\n",
            "3X3=9\n",
            "3X4=12\n",
            "3X5=15\n",
            "3X6=18\n",
            "3X7=21\n",
            "3X8=24\n",
            "3X9=27\n",
            "4X1=4\n",
            "4X2=8\n",
            "4X3=12\n",
            "4X4=16\n",
            "4X5=20\n",
            "4X6=24\n",
            "4X7=28\n",
            "4X8=32\n",
            "4X9=36\n",
            "5X1=5\n",
            "5X2=10\n",
            "5X3=15\n",
            "5X4=20\n",
            "5X5=25\n",
            "5X6=30\n",
            "5X7=35\n",
            "5X8=40\n",
            "5X9=45\n",
            "6X1=6\n",
            "6X2=12\n",
            "6X3=18\n",
            "6X4=24\n",
            "6X5=30\n",
            "6X6=36\n",
            "6X7=42\n",
            "6X8=48\n",
            "6X9=54\n",
            "7X1=7\n",
            "7X2=14\n",
            "7X3=21\n",
            "7X4=28\n",
            "7X5=35\n",
            "7X6=42\n",
            "7X7=49\n",
            "7X8=56\n",
            "7X9=63\n",
            "8X1=8\n",
            "8X2=16\n",
            "8X3=24\n",
            "8X4=32\n",
            "8X5=40\n",
            "8X6=48\n",
            "8X7=56\n",
            "8X8=64\n",
            "8X9=72\n",
            "9X1=9\n",
            "9X2=18\n",
            "9X3=27\n",
            "9X4=36\n",
            "9X5=45\n",
            "9X6=54\n",
            "9X7=63\n",
            "9X8=72\n",
            "9X9=81\n"
          ],
          "name": "stdout"
        }
      ]
    },
    {
      "cell_type": "code",
      "metadata": {
        "colab": {
          "base_uri": "https://localhost:8080/"
        },
        "id": "Zb_ukjwoF170",
        "outputId": "109f418a-0dcb-4adf-d2b2-9ec00323ec94"
      },
      "source": [
        "for 단 in range(2, 10):  \n",
        "    for i in range(1,10):\n",
        "      print(f'{단}X{i}={단*i}')"
      ],
      "execution_count": null,
      "outputs": [
        {
          "output_type": "stream",
          "text": [
            "2X1=2\n",
            "2X2=4\n",
            "2X3=6\n",
            "2X4=8\n",
            "2X5=10\n",
            "2X6=12\n",
            "2X7=14\n",
            "2X8=16\n",
            "2X9=18\n",
            "3X1=3\n",
            "3X2=6\n",
            "3X3=9\n",
            "3X4=12\n",
            "3X5=15\n",
            "3X6=18\n",
            "3X7=21\n",
            "3X8=24\n",
            "3X9=27\n",
            "4X1=4\n",
            "4X2=8\n",
            "4X3=12\n",
            "4X4=16\n",
            "4X5=20\n",
            "4X6=24\n",
            "4X7=28\n",
            "4X8=32\n",
            "4X9=36\n",
            "5X1=5\n",
            "5X2=10\n",
            "5X3=15\n",
            "5X4=20\n",
            "5X5=25\n",
            "5X6=30\n",
            "5X7=35\n",
            "5X8=40\n",
            "5X9=45\n",
            "6X1=6\n",
            "6X2=12\n",
            "6X3=18\n",
            "6X4=24\n",
            "6X5=30\n",
            "6X6=36\n",
            "6X7=42\n",
            "6X8=48\n",
            "6X9=54\n",
            "7X1=7\n",
            "7X2=14\n",
            "7X3=21\n",
            "7X4=28\n",
            "7X5=35\n",
            "7X6=42\n",
            "7X7=49\n",
            "7X8=56\n",
            "7X9=63\n",
            "8X1=8\n",
            "8X2=16\n",
            "8X3=24\n",
            "8X4=32\n",
            "8X5=40\n",
            "8X6=48\n",
            "8X7=56\n",
            "8X8=64\n",
            "8X9=72\n",
            "9X1=9\n",
            "9X2=18\n",
            "9X3=27\n",
            "9X4=36\n",
            "9X5=45\n",
            "9X6=54\n",
            "9X7=63\n",
            "9X8=72\n",
            "9X9=81\n"
          ],
          "name": "stdout"
        }
      ]
    },
    {
      "cell_type": "code",
      "metadata": {
        "colab": {
          "base_uri": "https://localhost:8080/"
        },
        "id": "y4nBcG59GTuL",
        "outputId": "5f3188b0-7d62-4c50-f7d2-5be5e23fd2dc"
      },
      "source": [
        "x=0\n",
        "while x < 10: \n",
        "   print(x)\n",
        "   x+=1"
      ],
      "execution_count": null,
      "outputs": [
        {
          "output_type": "stream",
          "text": [
            "0\n",
            "1\n",
            "2\n",
            "3\n",
            "4\n",
            "5\n",
            "6\n",
            "7\n",
            "8\n",
            "9\n"
          ],
          "name": "stdout"
        }
      ]
    },
    {
      "cell_type": "code",
      "metadata": {
        "colab": {
          "base_uri": "https://localhost:8080/"
        },
        "id": "HJ7xtqN5Ghrh",
        "outputId": "869c13f0-80a9-43bc-9ce5-2e7c75a6cac2"
      },
      "source": [
        "x=1\n",
        "while x<10:\n",
        "    print(f'{2}X{x}={2*i}')\n",
        "    x+=1\n",
        "print(x)"
      ],
      "execution_count": null,
      "outputs": [
        {
          "output_type": "stream",
          "text": [
            "2X1=18\n",
            "2X2=18\n",
            "2X3=18\n",
            "2X4=18\n",
            "2X5=18\n",
            "2X6=18\n",
            "2X7=18\n",
            "2X8=18\n",
            "2X9=18\n",
            "10\n"
          ],
          "name": "stdout"
        }
      ]
    },
    {
      "cell_type": "markdown",
      "metadata": {
        "id": "IaLl2dkQH-Az"
      },
      "source": [
        "## 모듈"
      ]
    },
    {
      "cell_type": "code",
      "metadata": {
        "id": "tWirSW9hH_zs"
      },
      "source": [
        "#fliename = test.py\n",
        "# name = 'leehojun'\n",
        "# age = 10"
      ],
      "execution_count": null,
      "outputs": []
    },
    {
      "cell_type": "code",
      "metadata": {
        "colab": {
          "base_uri": "https://localhost:8080/"
        },
        "id": "OBppuRk2INmB",
        "outputId": "a18ef6f7-7a6f-4a08-95f0-5a6d6d17a9d9"
      },
      "source": [
        "# import test\n",
        "import test as t\n",
        "\n",
        "print(t.name)\n",
        "print(t.age)"
      ],
      "execution_count": null,
      "outputs": [
        {
          "output_type": "stream",
          "text": [
            "leehojun\n",
            "10\n"
          ],
          "name": "stdout"
        }
      ]
    },
    {
      "cell_type": "code",
      "metadata": {
        "colab": {
          "base_uri": "https://localhost:8080/"
        },
        "id": "Gg39wtK9KR_Z",
        "outputId": "af5e4d7f-b3f1-414c-97f9-21d3a47e250f"
      },
      "source": [
        "from test import name, age\n",
        "\n",
        "print(name)\n",
        "print(age)"
      ],
      "execution_count": null,
      "outputs": [
        {
          "output_type": "stream",
          "text": [
            "leehojun\n",
            "10\n"
          ],
          "name": "stdout"
        }
      ]
    },
    {
      "cell_type": "markdown",
      "metadata": {
        "id": "ErRmlcXL7pkz"
      },
      "source": [
        "## 함수\n",
        "* 코드의 추상화\n",
        "1. 재사용성을 높일 수 있다.\n",
        "2. 코드의 구조를 파악하기 쉽다.\n",
        "3. 유지 및 보수를 쉽게 할 수 있다. "
      ]
    },
    {
      "cell_type": "code",
      "metadata": {
        "colab": {
          "base_uri": "https://localhost:8080/"
        },
        "id": "nx-nRv4I7q3N",
        "outputId": "3397e7e2-579d-4333-c37f-bd77f29637e2"
      },
      "source": [
        "def 더하기(x,y):\n",
        "   return x+y\n",
        "\n",
        "더하기(10,20)"
      ],
      "execution_count": 12,
      "outputs": [
        {
          "output_type": "execute_result",
          "data": {
            "text/plain": [
              "30"
            ]
          },
          "metadata": {
            "tags": []
          },
          "execution_count": 12
        }
      ]
    },
    {
      "cell_type": "code",
      "metadata": {
        "colab": {
          "base_uri": "https://localhost:8080/"
        },
        "id": "p2FxAB_P72Pq",
        "outputId": "b4ee78e3-928b-4422-8bd4-972012955a68"
      },
      "source": [
        "def 원의넓이(r):\n",
        "   return (r**2) * 3.14\n",
        "   \n",
        "print(원의넓이(10) + 100)\n",
        "print(원의넓이(10) + 50)\n"
      ],
      "execution_count": 13,
      "outputs": [
        {
          "output_type": "stream",
          "text": [
            "414.0\n",
            "364.0\n"
          ],
          "name": "stdout"
        }
      ]
    },
    {
      "cell_type": "code",
      "metadata": {
        "colab": {
          "base_uri": "https://localhost:8080/"
        },
        "id": "D2nE8vO-8dJN",
        "outputId": "e67adb47-957f-4efc-c456-10c2be04e707"
      },
      "source": [
        "점수 = [10,20,30,40]\n",
        "def 평균(반점수):\n",
        "   s=0\n",
        "   for i in 반점수:\n",
        "       s += i \n",
        "   return s / len(반점수)\n",
        "\n",
        "print(평균(점수))\n",
        "print(평균(점수)+5)"
      ],
      "execution_count": 16,
      "outputs": [
        {
          "output_type": "stream",
          "text": [
            "25.0\n",
            "30.0\n"
          ],
          "name": "stdout"
        }
      ]
    },
    {
      "cell_type": "markdown",
      "metadata": {
        "id": "Az8r0GKTK6PQ"
      },
      "source": [
        "## 파일 입출력"
      ]
    },
    {
      "cell_type": "code",
      "metadata": {
        "id": "eKNWpAdJK8ru"
      },
      "source": [
        "f= open(\"구구단.txt\",'w') #r(읽음) , w(작성, 덮어씀), a(추가) \n",
        "data = ''\n",
        "for 단 in range(2, 10):  \n",
        "    for i in range(1,10):\n",
        "        data += f'{단} X {i} = {단*i}\\n'\n",
        "f.write(data)\n",
        "f.close()"
      ],
      "execution_count": null,
      "outputs": []
    },
    {
      "cell_type": "markdown",
      "metadata": {
        "id": "cCGgkdED3zk-"
      },
      "source": [
        "## 클래스\n",
        "\n",
        "* 현실세계의 개념을 Code로 옮겨놓은 것\n",
        "* 첫 문자열은 대문자로 나타낸다. "
      ]
    },
    {
      "cell_type": "code",
      "metadata": {
        "id": "OfrT1D_24QkN"
      },
      "source": [
        "class Car :\n",
        "  # 클래스 변수(클래스에서 사용하는 변수) 또는 맴버 \n",
        "  maxspeed = 300\n",
        "  maxpeople = 5\n",
        "  # 메서드 -> 함수\n",
        "  def start(self):\n",
        "    print('출발하였습니다.')\n",
        "\n",
        "  def stop(self):\n",
        "    print('멈췄습니다.')"
      ],
      "execution_count": 4,
      "outputs": []
    },
    {
      "cell_type": "code",
      "metadata": {
        "colab": {
          "base_uri": "https://localhost:8080/"
        },
        "id": "rzNyujaq32Kt",
        "outputId": "faea536b-3268-4650-e21c-0b8e7f5b8ed5"
      },
      "source": [
        "audi = Car() # audi라는 인스턴스 생성\n",
        "bmw = Car() # bmw라는 인스턴스 생성\n",
        "\n",
        "audi.start()\n",
        "print(audi.maxpeople)\n",
        "print(Car.maxspeed) #Car라는 class는 직접 사용 X"
      ],
      "execution_count": 10,
      "outputs": [
        {
          "output_type": "stream",
          "text": [
            "출발하였습니다.\n",
            "5\n",
            "300\n"
          ],
          "name": "stdout"
        }
      ]
    },
    {
      "cell_type": "code",
      "metadata": {
        "colab": {
          "base_uri": "https://localhost:8080/"
        },
        "id": "X9ZZ2AtS6eQr",
        "outputId": "a494e0a1-fbb3-46a4-fdee-cd62f543688f"
      },
      "source": [
        "dir(audi)"
      ],
      "execution_count": 11,
      "outputs": [
        {
          "output_type": "execute_result",
          "data": {
            "text/plain": [
              "['__class__',\n",
              " '__delattr__',\n",
              " '__dict__',\n",
              " '__dir__',\n",
              " '__doc__',\n",
              " '__eq__',\n",
              " '__format__',\n",
              " '__ge__',\n",
              " '__getattribute__',\n",
              " '__gt__',\n",
              " '__hash__',\n",
              " '__init__',\n",
              " '__init_subclass__',\n",
              " '__le__',\n",
              " '__lt__',\n",
              " '__module__',\n",
              " '__ne__',\n",
              " '__new__',\n",
              " '__reduce__',\n",
              " '__reduce_ex__',\n",
              " '__repr__',\n",
              " '__setattr__',\n",
              " '__sizeof__',\n",
              " '__str__',\n",
              " '__subclasshook__',\n",
              " '__weakref__',\n",
              " 'maxpeople',\n",
              " 'maxspeed',\n",
              " 'start',\n",
              " 'stop']"
            ]
          },
          "metadata": {
            "tags": []
          },
          "execution_count": 11
        }
      ]
    },
    {
      "cell_type": "code",
      "metadata": {
        "colab": {
          "base_uri": "https://localhost:8080/"
        },
        "id": "TWHyzpJu6vfK",
        "outputId": "adc795fb-b6a2-4251-b177-fa2ba0417bfc"
      },
      "source": [
        "class 전기차(Car):\n",
        "    배터리 = 100\n",
        "    배터리에_따라_갈_수_있는_거리 = 300\n",
        "    \n",
        "전기차audi = 전기차()\n",
        "전기차audi.start()"
      ],
      "execution_count": 18,
      "outputs": [
        {
          "output_type": "stream",
          "text": [
            "출발하였습니다.\n"
          ],
          "name": "stdout"
        }
      ]
    }
  ]
}