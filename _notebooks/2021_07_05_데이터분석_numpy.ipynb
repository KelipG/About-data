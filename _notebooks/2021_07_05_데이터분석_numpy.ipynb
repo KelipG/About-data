{
  "nbformat": 4,
  "nbformat_minor": 0,
  "metadata": {
    "colab": {
      "name": "2021_07_05_데이터분석_numpy.ipynb",
      "provenance": [],
      "collapsed_sections": []
    },
    "kernelspec": {
      "name": "python3",
      "display_name": "Python 3"
    },
    "language_info": {
      "name": "python"
    }
  },
  "cells": [
    {
      "cell_type": "markdown",
      "metadata": {
        "id": "AvlTFkbgS_9D"
      },
      "source": [
        "# \"데이터 분석 NumPy 기초 문법 노트북\"\n",
        "> \"2021년 여름방학 데이터분석을 위한 NumPy 기초 문법\"\n",
        "\n",
        "- toc:true\n",
        "- branch: master\n",
        "- badges: true\n",
        "- comments: true\n",
        "- author: KimJinGyo\n",
        "- categories: [Numpy, 데이터분석]"
      ]
    },
    {
      "cell_type": "code",
      "metadata": {
        "colab": {
          "base_uri": "https://localhost:8080/"
        },
        "id": "MDBH_RLXUpbA",
        "outputId": "d37f87b6-7187-4460-f830-88add0787bcb"
      },
      "source": [
        "리스트=[[1,2,3],[4,5,6],[7,8,9]]\n",
        "리스트[0][0]\n",
        "리스트[0]\n",
        "리스트[2][0]"
      ],
      "execution_count": null,
      "outputs": [
        {
          "output_type": "execute_result",
          "data": {
            "text/plain": [
              "7"
            ]
          },
          "metadata": {
            "tags": []
          },
          "execution_count": 7
        }
      ]
    },
    {
      "cell_type": "code",
      "metadata": {
        "colab": {
          "base_uri": "https://localhost:8080/"
        },
        "id": "cNCMAJBDVdAt",
        "outputId": "28fed8a0-5b39-4c3a-fb35-1c3a449e972e"
      },
      "source": [
        "import numpy as np\n",
        "\n",
        "리스트=[[1,2,3],[4,5,6],[7,8,9]]\n",
        "리스트=np.array(리스트)\n",
        "리스트*2\n",
        "리스트+100"
      ],
      "execution_count": null,
      "outputs": [
        {
          "output_type": "execute_result",
          "data": {
            "text/plain": [
              "array([[101, 102, 103],\n",
              "       [104, 105, 106],\n",
              "       [107, 108, 109]])"
            ]
          },
          "metadata": {
            "tags": []
          },
          "execution_count": 9
        }
      ]
    },
    {
      "cell_type": "code",
      "metadata": {
        "colab": {
          "base_uri": "https://localhost:8080/"
        },
        "id": "lUSmSHbRV6vD",
        "outputId": "a28993f7-5e5e-4cae-c689-c56b7bded634"
      },
      "source": [
        "a = np.arange(15).reshape(3, 5)\n",
        "a"
      ],
      "execution_count": null,
      "outputs": [
        {
          "output_type": "execute_result",
          "data": {
            "text/plain": [
              "array([[ 0,  1,  2,  3,  4],\n",
              "       [ 5,  6,  7,  8,  9],\n",
              "       [10, 11, 12, 13, 14]])"
            ]
          },
          "metadata": {
            "tags": []
          },
          "execution_count": 11
        }
      ]
    },
    {
      "cell_type": "code",
      "metadata": {
        "colab": {
          "base_uri": "https://localhost:8080/"
        },
        "id": "UaMmrCdXWLvG",
        "outputId": "288e3a19-760f-4148-8025-df37a5f9b347"
      },
      "source": [
        "a = np.arange(20).reshape(4, 5)\n",
        "a"
      ],
      "execution_count": null,
      "outputs": [
        {
          "output_type": "execute_result",
          "data": {
            "text/plain": [
              "array([[ 0,  1,  2,  3,  4],\n",
              "       [ 5,  6,  7,  8,  9],\n",
              "       [10, 11, 12, 13, 14],\n",
              "       [15, 16, 17, 18, 19]])"
            ]
          },
          "metadata": {
            "tags": []
          },
          "execution_count": 12
        }
      ]
    },
    {
      "cell_type": "code",
      "metadata": {
        "colab": {
          "base_uri": "https://localhost:8080/"
        },
        "id": "U5vYGGvjWWoj",
        "outputId": "bb8e2b2e-01f6-44d0-e2df-559fef5a742b"
      },
      "source": [
        "a = np.arange(20).reshape(2,2, 5)\n",
        "a[0][1][2] "
      ],
      "execution_count": null,
      "outputs": [
        {
          "output_type": "execute_result",
          "data": {
            "text/plain": [
              "7"
            ]
          },
          "metadata": {
            "tags": []
          },
          "execution_count": 15
        }
      ]
    },
    {
      "cell_type": "code",
      "metadata": {
        "colab": {
          "base_uri": "https://localhost:8080/"
        },
        "id": "p2D5GYXXWk8y",
        "outputId": "254b26fa-d548-4421-a209-5ec025fd4392"
      },
      "source": [
        "a = np.arange(15).reshape(3, 5)\n",
        "a.shape\n",
        "a.ndim\n",
        "a.dtype.name\n",
        "a.size #flat한 데이터 사이즈\n",
        "type(a)"
      ],
      "execution_count": null,
      "outputs": [
        {
          "output_type": "execute_result",
          "data": {
            "text/plain": [
              "numpy.ndarray"
            ]
          },
          "metadata": {
            "tags": []
          },
          "execution_count": 21
        }
      ]
    },
    {
      "cell_type": "code",
      "metadata": {
        "colab": {
          "base_uri": "https://localhost:8080/"
        },
        "id": "uQGa1IS2YmAx",
        "outputId": "792f5a4a-e14b-4872-b4fc-4b3f47731e5c"
      },
      "source": [
        "np.zeros((3, 4))"
      ],
      "execution_count": null,
      "outputs": [
        {
          "output_type": "execute_result",
          "data": {
            "text/plain": [
              "array([[0., 0., 0., 0.],\n",
              "       [0., 0., 0., 0.],\n",
              "       [0., 0., 0., 0.]])"
            ]
          },
          "metadata": {
            "tags": []
          },
          "execution_count": 23
        }
      ]
    },
    {
      "cell_type": "code",
      "metadata": {
        "colab": {
          "base_uri": "https://localhost:8080/"
        },
        "id": "5YTwye1BYnXZ",
        "outputId": "cb07271f-8176-4bca-c7a4-6e6497d5eb9e"
      },
      "source": [
        "np.ones((2, 3), dtype=np.int16)"
      ],
      "execution_count": null,
      "outputs": [
        {
          "output_type": "execute_result",
          "data": {
            "text/plain": [
              "array([[1, 1, 1],\n",
              "       [1, 1, 1]], dtype=int16)"
            ]
          },
          "metadata": {
            "tags": []
          },
          "execution_count": 24
        }
      ]
    },
    {
      "cell_type": "code",
      "metadata": {
        "colab": {
          "base_uri": "https://localhost:8080/"
        },
        "id": "I7j4sqAdYxtW",
        "outputId": "38326efc-6915-45e9-a8c8-7a93325ed82e"
      },
      "source": [
        "np.empty((2, 3))"
      ],
      "execution_count": null,
      "outputs": [
        {
          "output_type": "execute_result",
          "data": {
            "text/plain": [
              "array([[4.65050683e-310, 0.00000000e+000, 0.00000000e+000],\n",
              "       [0.00000000e+000, 0.00000000e+000, 0.00000000e+000]])"
            ]
          },
          "metadata": {
            "tags": []
          },
          "execution_count": 25
        }
      ]
    },
    {
      "cell_type": "code",
      "metadata": {
        "colab": {
          "base_uri": "https://localhost:8080/"
        },
        "id": "JfeuABOsZAJi",
        "outputId": "1e5b8d7d-0587-4071-d450-131e5f6cc309"
      },
      "source": [
        "np.arange(10, 30, 5)"
      ],
      "execution_count": null,
      "outputs": [
        {
          "output_type": "execute_result",
          "data": {
            "text/plain": [
              "array([10, 15, 20, 25])"
            ]
          },
          "metadata": {
            "tags": []
          },
          "execution_count": 26
        }
      ]
    },
    {
      "cell_type": "code",
      "metadata": {
        "colab": {
          "base_uri": "https://localhost:8080/"
        },
        "id": "OkDh5PpzZC9M",
        "outputId": "3eb02496-cf0e-4a9c-c18a-3b8e49887cde"
      },
      "source": [
        "np.arange(0, 2, 0.3)"
      ],
      "execution_count": null,
      "outputs": [
        {
          "output_type": "execute_result",
          "data": {
            "text/plain": [
              "array([0. , 0.3, 0.6, 0.9, 1.2, 1.5, 1.8])"
            ]
          },
          "metadata": {
            "tags": []
          },
          "execution_count": 28
        }
      ]
    },
    {
      "cell_type": "code",
      "metadata": {
        "colab": {
          "base_uri": "https://localhost:8080/"
        },
        "id": "xINQFqf9ZGQE",
        "outputId": "4e2ecc68-b8c9-403e-d50b-41ca1e6d58ca"
      },
      "source": [
        "np.linspace(0, 9.5,20)"
      ],
      "execution_count": null,
      "outputs": [
        {
          "output_type": "execute_result",
          "data": {
            "text/plain": [
              "array([0. , 0.5, 1. , 1.5, 2. , 2.5, 3. , 3.5, 4. , 4.5, 5. , 5.5, 6. ,\n",
              "       6.5, 7. , 7.5, 8. , 8.5, 9. , 9.5])"
            ]
          },
          "metadata": {
            "tags": []
          },
          "execution_count": 30
        }
      ]
    },
    {
      "cell_type": "code",
      "metadata": {
        "colab": {
          "base_uri": "https://localhost:8080/"
        },
        "id": "kJHWjAP9d7tn",
        "outputId": "c6a7ecdd-a025-4701-d609-34d44698d3c7"
      },
      "source": [
        "리스트 = [[10,2,3],[4,5,6],[7,8,9]]\n",
        "a= np.array(리스트)\n",
        "# a.sum(), sum(리스트) #sum(리스트)는 애러남\n",
        "a.min(), min(리스트)\n",
        "a.max(), max(리스트) #2개는 출력 결과도 다름"
      ],
      "execution_count": null,
      "outputs": [
        {
          "output_type": "execute_result",
          "data": {
            "text/plain": [
              "(10, [10, 2, 3])"
            ]
          },
          "metadata": {
            "tags": []
          },
          "execution_count": 31
        }
      ]
    },
    {
      "cell_type": "code",
      "metadata": {
        "id": "zZudnYXie1kj"
      },
      "source": [
        "b = np.arange(12).reshape(3, 4)\n",
        "b"
      ],
      "execution_count": null,
      "outputs": []
    },
    {
      "cell_type": "code",
      "metadata": {
        "colab": {
          "base_uri": "https://localhost:8080/"
        },
        "id": "jJnWgbQOfeSX",
        "outputId": "64786cca-77d8-4287-b7b0-8d95c232e13f"
      },
      "source": [
        "b.sum(axis=0) #col 기준으로 row끼리 더한 것 (세로)\n",
        "b.sum(axis=1) #row 기준으로 col끼리 더한 것 (가로)\n",
        "b.sum()       #flat하게 모두 더한 것"
      ],
      "execution_count": null,
      "outputs": [
        {
          "output_type": "execute_result",
          "data": {
            "text/plain": [
              "66"
            ]
          },
          "metadata": {
            "tags": []
          },
          "execution_count": 36
        }
      ]
    },
    {
      "cell_type": "code",
      "metadata": {
        "colab": {
          "base_uri": "https://localhost:8080/"
        },
        "id": "1sllYW8-grw8",
        "outputId": "c6e6395d-ccaf-4931-a94f-0e64af2ae052"
      },
      "source": [
        "b.ravel()"
      ],
      "execution_count": null,
      "outputs": [
        {
          "output_type": "execute_result",
          "data": {
            "text/plain": [
              "array([ 0,  1,  2,  3,  4,  5,  6,  7,  8,  9, 10, 11])"
            ]
          },
          "metadata": {
            "tags": []
          },
          "execution_count": 38
        }
      ]
    },
    {
      "cell_type": "code",
      "metadata": {
        "colab": {
          "base_uri": "https://localhost:8080/"
        },
        "id": "Q-jRQ-bXgvhz",
        "outputId": "c7ca5837-88d3-4ac2-fbb4-efb977059cb0"
      },
      "source": [
        "b.T # 잘 써용\n",
        "# b.transpose 잘 안 씀"
      ],
      "execution_count": null,
      "outputs": [
        {
          "output_type": "execute_result",
          "data": {
            "text/plain": [
              "array([[ 0,  4,  8],\n",
              "       [ 1,  5,  9],\n",
              "       [ 2,  6, 10],\n",
              "       [ 3,  7, 11]])"
            ]
          },
          "metadata": {
            "tags": []
          },
          "execution_count": 39
        }
      ]
    },
    {
      "cell_type": "code",
      "metadata": {
        "colab": {
          "base_uri": "https://localhost:8080/"
        },
        "id": "bV8NF5fPg1tX",
        "outputId": "64f16e1a-e535-4759-e011-bd935f209ae9"
      },
      "source": [
        "a = np.array([[1,2],[3,4]])\n",
        "b = np.floor([[5,6],[7,8]])\n",
        "np.vstack((a, b))\n",
        "np.hstack((a, b))"
      ],
      "execution_count": null,
      "outputs": [
        {
          "output_type": "execute_result",
          "data": {
            "text/plain": [
              "array([[1., 2., 5., 6.],\n",
              "       [3., 4., 7., 8.]])"
            ]
          },
          "metadata": {
            "tags": []
          },
          "execution_count": 43
        }
      ]
    },
    {
      "cell_type": "code",
      "metadata": {
        "colab": {
          "base_uri": "https://localhost:8080/"
        },
        "id": "GHg40-lIh7QM",
        "outputId": "7bb217bd-6be7-4553-c729-5c051ffc2ee5"
      },
      "source": [
        "# 매우 많이 사용되는 코드입니다. 결측치에서 많이 사용\n",
        "a = np.arange(12).reshape(3, 4)\n",
        "b = a > 4\n",
        "b"
      ],
      "execution_count": null,
      "outputs": [
        {
          "output_type": "execute_result",
          "data": {
            "text/plain": [
              "array([[False, False, False, False],\n",
              "       [False,  True,  True,  True],\n",
              "       [ True,  True,  True,  True]])"
            ]
          },
          "metadata": {
            "tags": []
          },
          "execution_count": 40
        }
      ]
    },
    {
      "cell_type": "code",
      "metadata": {
        "colab": {
          "base_uri": "https://localhost:8080/"
        },
        "id": "jWQPrRaxiPlQ",
        "outputId": "8193a860-48aa-4a81-b002-367846fd9c37"
      },
      "source": [
        "b.sum()"
      ],
      "execution_count": null,
      "outputs": [
        {
          "output_type": "execute_result",
          "data": {
            "text/plain": [
              "7"
            ]
          },
          "metadata": {
            "tags": []
          },
          "execution_count": 41
        }
      ]
    }
  ]
}